{
 "cells": [
  {
   "cell_type": "markdown",
   "metadata": {},
   "source": [
    "# Business Analytics Project"
   ]
  },
  {
   "cell_type": "markdown",
   "metadata": {},
   "source": [
    "## Table of Content\n",
    "1. [Data Preparation](#1.-Data-Preparation)\n",
    "2. [Data Visualization](#2.-Data-Visualization)\n",
    "3. [Data Modelling](#3.-Data-Modelling)"
   ]
  },
  {
   "cell_type": "markdown",
   "metadata": {},
   "source": [
    "### 1. Data Preparation"
   ]
  },
  {
   "cell_type": "markdown",
   "metadata": {},
   "source": [
    "Data is downloaded and placed in the same folder with this notebook. Then, the top 5 row of the dataframe is printed."
   ]
  },
  {
   "cell_type": "code",
   "execution_count": 1,
   "metadata": {},
   "outputs": [],
   "source": [
    "from jupyterthemes import jtplot\n",
    "jtplot.style(theme='onedork')\n",
    "jtplot.style(context='talk', fscale=1.4, spines=True, gridlines='--')\n",
    "jtplot.style(ticks=True, grid=True, figsize=(10, 6))\n",
    "\n",
    "import warnings\n",
    "warnings.filterwarnings(\"ignore\")"
   ]
  },
  {
   "cell_type": "code",
   "execution_count": 2,
   "metadata": {
    "scrolled": false
   },
   "outputs": [
    {
     "data": {
      "text/html": [
       "<div>\n",
       "<style scoped>\n",
       "    .dataframe tbody tr th:only-of-type {\n",
       "        vertical-align: middle;\n",
       "    }\n",
       "\n",
       "    .dataframe tbody tr th {\n",
       "        vertical-align: top;\n",
       "    }\n",
       "\n",
       "    .dataframe thead th {\n",
       "        text-align: right;\n",
       "    }\n",
       "</style>\n",
       "<table border=\"1\" class=\"dataframe\">\n",
       "  <thead>\n",
       "    <tr style=\"text-align: right;\">\n",
       "      <th></th>\n",
       "      <th>no</th>\n",
       "      <th>Row_Num</th>\n",
       "      <th>Customer_ID</th>\n",
       "      <th>Product</th>\n",
       "      <th>First_Transaction</th>\n",
       "      <th>Last_Transaction</th>\n",
       "      <th>Average_Transaction_Amount</th>\n",
       "      <th>Count_Transaction</th>\n",
       "    </tr>\n",
       "  </thead>\n",
       "  <tbody>\n",
       "    <tr>\n",
       "      <th>0</th>\n",
       "      <td>1</td>\n",
       "      <td>1</td>\n",
       "      <td>29531</td>\n",
       "      <td>Jacket</td>\n",
       "      <td>1466304274396</td>\n",
       "      <td>1538718482608</td>\n",
       "      <td>1467681</td>\n",
       "      <td>22</td>\n",
       "    </tr>\n",
       "    <tr>\n",
       "      <th>1</th>\n",
       "      <td>2</td>\n",
       "      <td>2</td>\n",
       "      <td>29531</td>\n",
       "      <td>Shoes</td>\n",
       "      <td>1406077331494</td>\n",
       "      <td>1545735761270</td>\n",
       "      <td>1269337</td>\n",
       "      <td>41</td>\n",
       "    </tr>\n",
       "    <tr>\n",
       "      <th>2</th>\n",
       "      <td>3</td>\n",
       "      <td>3</td>\n",
       "      <td>141526</td>\n",
       "      <td>Bag</td>\n",
       "      <td>1493349147000</td>\n",
       "      <td>1548322802000</td>\n",
       "      <td>310915</td>\n",
       "      <td>30</td>\n",
       "    </tr>\n",
       "    <tr>\n",
       "      <th>3</th>\n",
       "      <td>4</td>\n",
       "      <td>4</td>\n",
       "      <td>141526</td>\n",
       "      <td>Jacket</td>\n",
       "      <td>1493362372547</td>\n",
       "      <td>1547643603911</td>\n",
       "      <td>722632</td>\n",
       "      <td>27</td>\n",
       "    </tr>\n",
       "    <tr>\n",
       "      <th>4</th>\n",
       "      <td>5</td>\n",
       "      <td>5</td>\n",
       "      <td>37545</td>\n",
       "      <td>Shoes</td>\n",
       "      <td>1429178498531</td>\n",
       "      <td>1542891221530</td>\n",
       "      <td>1775036</td>\n",
       "      <td>25</td>\n",
       "    </tr>\n",
       "  </tbody>\n",
       "</table>\n",
       "</div>"
      ],
      "text/plain": [
       "   no  Row_Num  Customer_ID Product  First_Transaction  Last_Transaction  \\\n",
       "0   1        1        29531  Jacket      1466304274396     1538718482608   \n",
       "1   2        2        29531   Shoes      1406077331494     1545735761270   \n",
       "2   3        3       141526     Bag      1493349147000     1548322802000   \n",
       "3   4        4       141526  Jacket      1493362372547     1547643603911   \n",
       "4   5        5        37545   Shoes      1429178498531     1542891221530   \n",
       "\n",
       "   Average_Transaction_Amount  Count_Transaction  \n",
       "0                     1467681                 22  \n",
       "1                     1269337                 41  \n",
       "2                      310915                 30  \n",
       "3                      722632                 27  \n",
       "4                     1775036                 25  "
      ]
     },
     "execution_count": 2,
     "metadata": {},
     "output_type": "execute_result"
    }
   ],
   "source": [
    "import pandas as pd\n",
    "df = pd.read_csv('data_retail.csv', sep=';')\n",
    "df.head()"
   ]
  },
  {
   "cell_type": "markdown",
   "metadata": {},
   "source": [
    "Or to print a random data, use `.sample()`"
   ]
  },
  {
   "cell_type": "code",
   "execution_count": 3,
   "metadata": {},
   "outputs": [
    {
     "data": {
      "text/html": [
       "<div>\n",
       "<style scoped>\n",
       "    .dataframe tbody tr th:only-of-type {\n",
       "        vertical-align: middle;\n",
       "    }\n",
       "\n",
       "    .dataframe tbody tr th {\n",
       "        vertical-align: top;\n",
       "    }\n",
       "\n",
       "    .dataframe thead th {\n",
       "        text-align: right;\n",
       "    }\n",
       "</style>\n",
       "<table border=\"1\" class=\"dataframe\">\n",
       "  <thead>\n",
       "    <tr style=\"text-align: right;\">\n",
       "      <th></th>\n",
       "      <th>no</th>\n",
       "      <th>Row_Num</th>\n",
       "      <th>Customer_ID</th>\n",
       "      <th>Product</th>\n",
       "      <th>First_Transaction</th>\n",
       "      <th>Last_Transaction</th>\n",
       "      <th>Average_Transaction_Amount</th>\n",
       "      <th>Count_Transaction</th>\n",
       "    </tr>\n",
       "  </thead>\n",
       "  <tbody>\n",
       "    <tr>\n",
       "      <th>78484</th>\n",
       "      <td>78485</td>\n",
       "      <td>78485</td>\n",
       "      <td>479889</td>\n",
       "      <td>Shoes</td>\n",
       "      <td>1527160173437</td>\n",
       "      <td>1528462281428</td>\n",
       "      <td>975434</td>\n",
       "      <td>2</td>\n",
       "    </tr>\n",
       "    <tr>\n",
       "      <th>64713</th>\n",
       "      <td>64714</td>\n",
       "      <td>64714</td>\n",
       "      <td>390348</td>\n",
       "      <td>Jacket</td>\n",
       "      <td>1534866681949</td>\n",
       "      <td>1534866745406</td>\n",
       "      <td>154594</td>\n",
       "      <td>2</td>\n",
       "    </tr>\n",
       "    <tr>\n",
       "      <th>85027</th>\n",
       "      <td>85028</td>\n",
       "      <td>85028</td>\n",
       "      <td>543767</td>\n",
       "      <td>Shoes</td>\n",
       "      <td>1530325317909</td>\n",
       "      <td>1530325317909</td>\n",
       "      <td>441200</td>\n",
       "      <td>1</td>\n",
       "    </tr>\n",
       "    <tr>\n",
       "      <th>11668</th>\n",
       "      <td>11669</td>\n",
       "      <td>11669</td>\n",
       "      <td>174006</td>\n",
       "      <td>Shoes</td>\n",
       "      <td>1511274187123</td>\n",
       "      <td>1541497522183</td>\n",
       "      <td>703700</td>\n",
       "      <td>26</td>\n",
       "    </tr>\n",
       "    <tr>\n",
       "      <th>20520</th>\n",
       "      <td>20521</td>\n",
       "      <td>20521</td>\n",
       "      <td>64036</td>\n",
       "      <td>Jacket</td>\n",
       "      <td>1453428032592</td>\n",
       "      <td>1472637137715</td>\n",
       "      <td>465324</td>\n",
       "      <td>5</td>\n",
       "    </tr>\n",
       "  </tbody>\n",
       "</table>\n",
       "</div>"
      ],
      "text/plain": [
       "          no  Row_Num  Customer_ID Product  First_Transaction  \\\n",
       "78484  78485    78485       479889   Shoes      1527160173437   \n",
       "64713  64714    64714       390348  Jacket      1534866681949   \n",
       "85027  85028    85028       543767   Shoes      1530325317909   \n",
       "11668  11669    11669       174006   Shoes      1511274187123   \n",
       "20520  20521    20521        64036  Jacket      1453428032592   \n",
       "\n",
       "       Last_Transaction  Average_Transaction_Amount  Count_Transaction  \n",
       "78484     1528462281428                      975434                  2  \n",
       "64713     1534866745406                      154594                  2  \n",
       "85027     1530325317909                      441200                  1  \n",
       "11668     1541497522183                      703700                 26  \n",
       "20520     1472637137715                      465324                  5  "
      ]
     },
     "execution_count": 3,
     "metadata": {},
     "output_type": "execute_result"
    }
   ],
   "source": [
    "df.sample(5)"
   ]
  },
  {
   "cell_type": "markdown",
   "metadata": {},
   "source": [
    "We do not need the first two columns as it does not give any values to our data, so we neglect them."
   ]
  },
  {
   "cell_type": "code",
   "execution_count": 4,
   "metadata": {},
   "outputs": [
    {
     "data": {
      "text/html": [
       "<div>\n",
       "<style scoped>\n",
       "    .dataframe tbody tr th:only-of-type {\n",
       "        vertical-align: middle;\n",
       "    }\n",
       "\n",
       "    .dataframe tbody tr th {\n",
       "        vertical-align: top;\n",
       "    }\n",
       "\n",
       "    .dataframe thead th {\n",
       "        text-align: right;\n",
       "    }\n",
       "</style>\n",
       "<table border=\"1\" class=\"dataframe\">\n",
       "  <thead>\n",
       "    <tr style=\"text-align: right;\">\n",
       "      <th></th>\n",
       "      <th>Customer_ID</th>\n",
       "      <th>Product</th>\n",
       "      <th>First_Transaction</th>\n",
       "      <th>Last_Transaction</th>\n",
       "      <th>Average_Transaction_Amount</th>\n",
       "      <th>Count_Transaction</th>\n",
       "    </tr>\n",
       "  </thead>\n",
       "  <tbody>\n",
       "    <tr>\n",
       "      <th>0</th>\n",
       "      <td>29531</td>\n",
       "      <td>Jacket</td>\n",
       "      <td>1466304274396</td>\n",
       "      <td>1538718482608</td>\n",
       "      <td>1467681</td>\n",
       "      <td>22</td>\n",
       "    </tr>\n",
       "    <tr>\n",
       "      <th>1</th>\n",
       "      <td>29531</td>\n",
       "      <td>Shoes</td>\n",
       "      <td>1406077331494</td>\n",
       "      <td>1545735761270</td>\n",
       "      <td>1269337</td>\n",
       "      <td>41</td>\n",
       "    </tr>\n",
       "    <tr>\n",
       "      <th>2</th>\n",
       "      <td>141526</td>\n",
       "      <td>Bag</td>\n",
       "      <td>1493349147000</td>\n",
       "      <td>1548322802000</td>\n",
       "      <td>310915</td>\n",
       "      <td>30</td>\n",
       "    </tr>\n",
       "    <tr>\n",
       "      <th>3</th>\n",
       "      <td>141526</td>\n",
       "      <td>Jacket</td>\n",
       "      <td>1493362372547</td>\n",
       "      <td>1547643603911</td>\n",
       "      <td>722632</td>\n",
       "      <td>27</td>\n",
       "    </tr>\n",
       "    <tr>\n",
       "      <th>4</th>\n",
       "      <td>37545</td>\n",
       "      <td>Shoes</td>\n",
       "      <td>1429178498531</td>\n",
       "      <td>1542891221530</td>\n",
       "      <td>1775036</td>\n",
       "      <td>25</td>\n",
       "    </tr>\n",
       "  </tbody>\n",
       "</table>\n",
       "</div>"
      ],
      "text/plain": [
       "   Customer_ID Product  First_Transaction  Last_Transaction  \\\n",
       "0        29531  Jacket      1466304274396     1538718482608   \n",
       "1        29531   Shoes      1406077331494     1545735761270   \n",
       "2       141526     Bag      1493349147000     1548322802000   \n",
       "3       141526  Jacket      1493362372547     1547643603911   \n",
       "4        37545   Shoes      1429178498531     1542891221530   \n",
       "\n",
       "   Average_Transaction_Amount  Count_Transaction  \n",
       "0                     1467681                 22  \n",
       "1                     1269337                 41  \n",
       "2                      310915                 30  \n",
       "3                      722632                 27  \n",
       "4                     1775036                 25  "
      ]
     },
     "execution_count": 4,
     "metadata": {},
     "output_type": "execute_result"
    }
   ],
   "source": [
    "df = df[df.columns[2:]]\n",
    "df.head()"
   ]
  },
  {
   "cell_type": "markdown",
   "metadata": {},
   "source": [
    "We use `info()` command to get a clear look of the dataframe. From this, we can see the total number of rows the dataframe has and any null columns can be easily identified. We can see the data type of each columns as well."
   ]
  },
  {
   "cell_type": "code",
   "execution_count": 5,
   "metadata": {},
   "outputs": [
    {
     "name": "stdout",
     "output_type": "stream",
     "text": [
      "<class 'pandas.core.frame.DataFrame'>\n",
      "RangeIndex: 100000 entries, 0 to 99999\n",
      "Data columns (total 6 columns):\n",
      " #   Column                      Non-Null Count   Dtype \n",
      "---  ------                      --------------   ----- \n",
      " 0   Customer_ID                 100000 non-null  int64 \n",
      " 1   Product                     100000 non-null  object\n",
      " 2   First_Transaction           100000 non-null  int64 \n",
      " 3   Last_Transaction            100000 non-null  int64 \n",
      " 4   Average_Transaction_Amount  100000 non-null  int64 \n",
      " 5   Count_Transaction           100000 non-null  int64 \n",
      "dtypes: int64(5), object(1)\n",
      "memory usage: 4.6+ MB\n"
     ]
    }
   ],
   "source": [
    "df.info()"
   ]
  },
  {
   "cell_type": "markdown",
   "metadata": {},
   "source": [
    "Notice that the `First_Transaction` and the `Last_Transaction` has `int64` as their data type. We should change it to a `datetime` type to reflect the true meaning of its values."
   ]
  },
  {
   "cell_type": "code",
   "execution_count": 6,
   "metadata": {},
   "outputs": [
    {
     "data": {
      "text/html": [
       "<div>\n",
       "<style scoped>\n",
       "    .dataframe tbody tr th:only-of-type {\n",
       "        vertical-align: middle;\n",
       "    }\n",
       "\n",
       "    .dataframe tbody tr th {\n",
       "        vertical-align: top;\n",
       "    }\n",
       "\n",
       "    .dataframe thead th {\n",
       "        text-align: right;\n",
       "    }\n",
       "</style>\n",
       "<table border=\"1\" class=\"dataframe\">\n",
       "  <thead>\n",
       "    <tr style=\"text-align: right;\">\n",
       "      <th></th>\n",
       "      <th>First_Transaction</th>\n",
       "      <th>Last_Transaction</th>\n",
       "    </tr>\n",
       "  </thead>\n",
       "  <tbody>\n",
       "    <tr>\n",
       "      <th>0</th>\n",
       "      <td>1466304274396</td>\n",
       "      <td>1538718482608</td>\n",
       "    </tr>\n",
       "    <tr>\n",
       "      <th>1</th>\n",
       "      <td>1406077331494</td>\n",
       "      <td>1545735761270</td>\n",
       "    </tr>\n",
       "    <tr>\n",
       "      <th>2</th>\n",
       "      <td>1493349147000</td>\n",
       "      <td>1548322802000</td>\n",
       "    </tr>\n",
       "    <tr>\n",
       "      <th>3</th>\n",
       "      <td>1493362372547</td>\n",
       "      <td>1547643603911</td>\n",
       "    </tr>\n",
       "    <tr>\n",
       "      <th>4</th>\n",
       "      <td>1429178498531</td>\n",
       "      <td>1542891221530</td>\n",
       "    </tr>\n",
       "  </tbody>\n",
       "</table>\n",
       "</div>"
      ],
      "text/plain": [
       "   First_Transaction  Last_Transaction\n",
       "0      1466304274396     1538718482608\n",
       "1      1406077331494     1545735761270\n",
       "2      1493349147000     1548322802000\n",
       "3      1493362372547     1547643603911\n",
       "4      1429178498531     1542891221530"
      ]
     },
     "execution_count": 6,
     "metadata": {},
     "output_type": "execute_result"
    }
   ],
   "source": [
    "df[['First_Transaction','Last_Transaction']].head()"
   ]
  },
  {
   "cell_type": "code",
   "execution_count": 7,
   "metadata": {},
   "outputs": [
    {
     "data": {
      "text/html": [
       "<div>\n",
       "<style scoped>\n",
       "    .dataframe tbody tr th:only-of-type {\n",
       "        vertical-align: middle;\n",
       "    }\n",
       "\n",
       "    .dataframe tbody tr th {\n",
       "        vertical-align: top;\n",
       "    }\n",
       "\n",
       "    .dataframe thead th {\n",
       "        text-align: right;\n",
       "    }\n",
       "</style>\n",
       "<table border=\"1\" class=\"dataframe\">\n",
       "  <thead>\n",
       "    <tr style=\"text-align: right;\">\n",
       "      <th></th>\n",
       "      <th>First_Transaction</th>\n",
       "      <th>Last_Transaction</th>\n",
       "    </tr>\n",
       "  </thead>\n",
       "  <tbody>\n",
       "    <tr>\n",
       "      <th>0</th>\n",
       "      <td>2016-06-19 02:44:34.395999908</td>\n",
       "      <td>2018-10-05 05:48:02.608000040</td>\n",
       "    </tr>\n",
       "    <tr>\n",
       "      <th>1</th>\n",
       "      <td>2014-07-23 01:02:11.493999958</td>\n",
       "      <td>2018-12-25 11:02:41.269999981</td>\n",
       "    </tr>\n",
       "    <tr>\n",
       "      <th>2</th>\n",
       "      <td>2017-04-28 03:12:27.000000000</td>\n",
       "      <td>2019-01-24 09:40:02.000000000</td>\n",
       "    </tr>\n",
       "    <tr>\n",
       "      <th>3</th>\n",
       "      <td>2017-04-28 06:52:52.546999931</td>\n",
       "      <td>2019-01-16 13:00:03.911000013</td>\n",
       "    </tr>\n",
       "    <tr>\n",
       "      <th>4</th>\n",
       "      <td>2015-04-16 10:01:38.530999899</td>\n",
       "      <td>2018-11-22 12:53:41.529999970</td>\n",
       "    </tr>\n",
       "  </tbody>\n",
       "</table>\n",
       "</div>"
      ],
      "text/plain": [
       "              First_Transaction              Last_Transaction\n",
       "0 2016-06-19 02:44:34.395999908 2018-10-05 05:48:02.608000040\n",
       "1 2014-07-23 01:02:11.493999958 2018-12-25 11:02:41.269999981\n",
       "2 2017-04-28 03:12:27.000000000 2019-01-24 09:40:02.000000000\n",
       "3 2017-04-28 06:52:52.546999931 2019-01-16 13:00:03.911000013\n",
       "4 2015-04-16 10:01:38.530999899 2018-11-22 12:53:41.529999970"
      ]
     },
     "execution_count": 7,
     "metadata": {},
     "output_type": "execute_result"
    }
   ],
   "source": [
    "df['First_Transaction'] = pd.to_datetime(df['First_Transaction']/1000, unit='s', origin='unix')\n",
    "df['Last_Transaction'] = pd.to_datetime(df['Last_Transaction']/1000, unit='s', origin='unix')\n",
    "df[['First_Transaction','Last_Transaction']].head()"
   ]
  },
  {
   "cell_type": "markdown",
   "metadata": {},
   "source": [
    "The results obtained are as follows:"
   ]
  },
  {
   "cell_type": "code",
   "execution_count": 8,
   "metadata": {
    "scrolled": true
   },
   "outputs": [
    {
     "name": "stdout",
     "output_type": "stream",
     "text": [
      "<class 'pandas.core.frame.DataFrame'>\n",
      "RangeIndex: 100000 entries, 0 to 99999\n",
      "Data columns (total 6 columns):\n",
      " #   Column                      Non-Null Count   Dtype         \n",
      "---  ------                      --------------   -----         \n",
      " 0   Customer_ID                 100000 non-null  int64         \n",
      " 1   Product                     100000 non-null  object        \n",
      " 2   First_Transaction           100000 non-null  datetime64[ns]\n",
      " 3   Last_Transaction            100000 non-null  datetime64[ns]\n",
      " 4   Average_Transaction_Amount  100000 non-null  int64         \n",
      " 5   Count_Transaction           100000 non-null  int64         \n",
      "dtypes: datetime64[ns](2), int64(3), object(1)\n",
      "memory usage: 4.6+ MB\n"
     ]
    }
   ],
   "source": [
    "df.info()"
   ]
  },
  {
   "cell_type": "markdown",
   "metadata": {},
   "source": [
    "We can see that the datatype in both columns `First_Transaction` and `Last_Transaction` has been converted to datetime.\n",
    "\n",
    "We then create a new column to determine which customers had made recent purchase and which are not. This column is created with predetermined conditions, that is, if the customer had a `Last_Transaction` before the last 6 months of the data update, then they are considered **churn**. Meanwhile, if there is `Last_Transsaction` occurs after the last 6 months of the update, then it is considered **not churn**.\n",
    "\n",
    "Before creating the column, we need to know when the last data update was done by checking the last data from `Last_Transaction`. This churn column will be created with datatype *int* so that there will only be two types of data, labeled `1` for the churn customer and `0` otherwise."
   ]
  },
  {
   "cell_type": "code",
   "execution_count": 9,
   "metadata": {},
   "outputs": [
    {
     "data": {
      "text/plain": [
       "Timestamp('2019-02-01 23:57:57.286000013')"
      ]
     },
     "execution_count": 9,
     "metadata": {},
     "output_type": "execute_result"
    }
   ],
   "source": [
    "# check the last transaction\n",
    "max(df['Last_Transaction'])"
   ]
  },
  {
   "cell_type": "markdown",
   "metadata": {},
   "source": [
    "With simple math, we subtract 6 months from the last date of `Last_Transaction` and we get `2018-08-01`."
   ]
  },
  {
   "cell_type": "code",
   "execution_count": 10,
   "metadata": {},
   "outputs": [
    {
     "data": {
      "text/html": [
       "<div>\n",
       "<style scoped>\n",
       "    .dataframe tbody tr th:only-of-type {\n",
       "        vertical-align: middle;\n",
       "    }\n",
       "\n",
       "    .dataframe tbody tr th {\n",
       "        vertical-align: top;\n",
       "    }\n",
       "\n",
       "    .dataframe thead th {\n",
       "        text-align: right;\n",
       "    }\n",
       "</style>\n",
       "<table border=\"1\" class=\"dataframe\">\n",
       "  <thead>\n",
       "    <tr style=\"text-align: right;\">\n",
       "      <th></th>\n",
       "      <th>Customer_ID</th>\n",
       "      <th>Last_Transaction</th>\n",
       "      <th>is_churn</th>\n",
       "    </tr>\n",
       "  </thead>\n",
       "  <tbody>\n",
       "    <tr>\n",
       "      <th>40383</th>\n",
       "      <td>57893</td>\n",
       "      <td>2015-11-15 17:48:26.645999908</td>\n",
       "      <td>1</td>\n",
       "    </tr>\n",
       "    <tr>\n",
       "      <th>11654</th>\n",
       "      <td>26228</td>\n",
       "      <td>2017-11-15 07:07:30.589999914</td>\n",
       "      <td>1</td>\n",
       "    </tr>\n",
       "    <tr>\n",
       "      <th>51536</th>\n",
       "      <td>217022</td>\n",
       "      <td>2017-12-10 18:46:12.489000082</td>\n",
       "      <td>1</td>\n",
       "    </tr>\n",
       "    <tr>\n",
       "      <th>30582</th>\n",
       "      <td>32097</td>\n",
       "      <td>2017-09-02 09:50:09.319000006</td>\n",
       "      <td>1</td>\n",
       "    </tr>\n",
       "    <tr>\n",
       "      <th>17816</th>\n",
       "      <td>33036</td>\n",
       "      <td>2018-10-08 11:18:59.124000072</td>\n",
       "      <td>0</td>\n",
       "    </tr>\n",
       "  </tbody>\n",
       "</table>\n",
       "</div>"
      ],
      "text/plain": [
       "       Customer_ID              Last_Transaction  is_churn\n",
       "40383        57893 2015-11-15 17:48:26.645999908         1\n",
       "11654        26228 2017-11-15 07:07:30.589999914         1\n",
       "51536       217022 2017-12-10 18:46:12.489000082         1\n",
       "30582        32097 2017-09-02 09:50:09.319000006         1\n",
       "17816        33036 2018-10-08 11:18:59.124000072         0"
      ]
     },
     "execution_count": 10,
     "metadata": {},
     "output_type": "execute_result"
    }
   ],
   "source": [
    "# classify the status of the customer with boolean type\n",
    "df.loc[df['Last_Transaction'] <= '2018-08-01', 'is_churn'] = 1\n",
    "df.loc[df['Last_Transaction'] >= '2018-08-01', 'is_churn'] = 0\n",
    "df['is_churn'] = df['is_churn'].astype('int64')\n",
    "df[['Customer_ID', 'Last_Transaction', 'is_churn']].sample(5)"
   ]
  },
  {
   "cell_type": "markdown",
   "metadata": {},
   "source": [
    "We can see the last column named `is_churn` contains the information of the customer status as we needed."
   ]
  },
  {
   "cell_type": "code",
   "execution_count": 11,
   "metadata": {
    "scrolled": true
   },
   "outputs": [
    {
     "name": "stdout",
     "output_type": "stream",
     "text": [
      "<class 'pandas.core.frame.DataFrame'>\n",
      "RangeIndex: 100000 entries, 0 to 99999\n",
      "Data columns (total 7 columns):\n",
      " #   Column                      Non-Null Count   Dtype         \n",
      "---  ------                      --------------   -----         \n",
      " 0   Customer_ID                 100000 non-null  int64         \n",
      " 1   Product                     100000 non-null  object        \n",
      " 2   First_Transaction           100000 non-null  datetime64[ns]\n",
      " 3   Last_Transaction            100000 non-null  datetime64[ns]\n",
      " 4   Average_Transaction_Amount  100000 non-null  int64         \n",
      " 5   Count_Transaction           100000 non-null  int64         \n",
      " 6   is_churn                    100000 non-null  int64         \n",
      "dtypes: datetime64[ns](2), int64(4), object(1)\n",
      "memory usage: 5.3+ MB\n"
     ]
    }
   ],
   "source": [
    "df.info()"
   ]
  },
  {
   "cell_type": "markdown",
   "metadata": {},
   "source": [
    "### 2. Data Visualization"
   ]
  },
  {
   "cell_type": "markdown",
   "metadata": {},
   "source": [
    "The first thing that we want to visualize is the trend of customer purchase with respect to year using bar chart. Thus, we need a new column that only display the year of `First_Transaction` and `Last_Transaction` and write it into `Year_First_Transaction` and `Year_Last_Transaction` respectively."
   ]
  },
  {
   "cell_type": "code",
   "execution_count": 12,
   "metadata": {},
   "outputs": [
    {
     "data": {
      "text/html": [
       "<div>\n",
       "<style scoped>\n",
       "    .dataframe tbody tr th:only-of-type {\n",
       "        vertical-align: middle;\n",
       "    }\n",
       "\n",
       "    .dataframe tbody tr th {\n",
       "        vertical-align: top;\n",
       "    }\n",
       "\n",
       "    .dataframe thead th {\n",
       "        text-align: right;\n",
       "    }\n",
       "</style>\n",
       "<table border=\"1\" class=\"dataframe\">\n",
       "  <thead>\n",
       "    <tr style=\"text-align: right;\">\n",
       "      <th></th>\n",
       "      <th>Customer_ID</th>\n",
       "      <th>Year_First_Transaction</th>\n",
       "      <th>Year_Last_Transaction</th>\n",
       "    </tr>\n",
       "  </thead>\n",
       "  <tbody>\n",
       "    <tr>\n",
       "      <th>0</th>\n",
       "      <td>29531</td>\n",
       "      <td>2016</td>\n",
       "      <td>2018</td>\n",
       "    </tr>\n",
       "    <tr>\n",
       "      <th>1</th>\n",
       "      <td>29531</td>\n",
       "      <td>2014</td>\n",
       "      <td>2018</td>\n",
       "    </tr>\n",
       "    <tr>\n",
       "      <th>2</th>\n",
       "      <td>141526</td>\n",
       "      <td>2017</td>\n",
       "      <td>2019</td>\n",
       "    </tr>\n",
       "    <tr>\n",
       "      <th>3</th>\n",
       "      <td>141526</td>\n",
       "      <td>2017</td>\n",
       "      <td>2019</td>\n",
       "    </tr>\n",
       "    <tr>\n",
       "      <th>4</th>\n",
       "      <td>37545</td>\n",
       "      <td>2015</td>\n",
       "      <td>2018</td>\n",
       "    </tr>\n",
       "  </tbody>\n",
       "</table>\n",
       "</div>"
      ],
      "text/plain": [
       "   Customer_ID  Year_First_Transaction  Year_Last_Transaction\n",
       "0        29531                    2016                   2018\n",
       "1        29531                    2014                   2018\n",
       "2       141526                    2017                   2019\n",
       "3       141526                    2017                   2019\n",
       "4        37545                    2015                   2018"
      ]
     },
     "execution_count": 12,
     "metadata": {},
     "output_type": "execute_result"
    }
   ],
   "source": [
    "df['Year_First_Transaction'] = df['First_Transaction'].dt.year\n",
    "df['Year_Last_Transaction'] = df['Last_Transaction'].dt.year\n",
    "df[['Customer_ID', 'Year_First_Transaction', 'Year_Last_Transaction']].head()"
   ]
  },
  {
   "cell_type": "markdown",
   "metadata": {},
   "source": [
    "We grouped the data by `Year_First_Transaction` column with count in the `Customer_ID` column to get the number of customer that have made the first transaction in each year from 2013 to 2019."
   ]
  },
  {
   "cell_type": "code",
   "execution_count": 13,
   "metadata": {},
   "outputs": [
    {
     "data": {
      "text/plain": [
       "Year_First_Transaction\n",
       "2013     1007\n",
       "2014     4954\n",
       "2015    11235\n",
       "2016    17656\n",
       "2017    31828\n",
       "2018    30327\n",
       "2019     2993\n",
       "Name: Customer_ID, dtype: int64"
      ]
     },
     "execution_count": 13,
     "metadata": {},
     "output_type": "execute_result"
    }
   ],
   "source": [
    "df_year = df.groupby(['Year_First_Transaction'])['Customer_ID'].count()\n",
    "df_year"
   ]
  },
  {
   "cell_type": "markdown",
   "metadata": {},
   "source": [
    "Then we can proceed with the bar graph."
   ]
  },
  {
   "cell_type": "code",
   "execution_count": 14,
   "metadata": {},
   "outputs": [
    {
     "data": {
      "image/png": "[encoded data removed]",
      "text/plain": [
       "<Figure size 576x345.6 with 1 Axes>"
      ]
     },
     "metadata": {},
     "output_type": "display_data"
    }
   ],
   "source": [
    "import matplotlib.pyplot as plt\n",
    "df_year.plot(x='Year_First_Transaction', y='Customer_ID', kind='bar',\n",
    "             title='Customer First Purchase per Year')\n",
    "plt.xlabel('Year')\n",
    "plt.ylabel('Number of Customer')\n",
    "plt.show()"
   ]
  },
  {
   "cell_type": "markdown",
   "metadata": {},
   "source": [
    "#### Observation\n",
    "From the bar chart above, we can see most customer made their first purchase in 2017 and 2018. This shows that the business has a fairy good growth as it continues to record their new customers from 2013 to 2017. Then, a drastic decline in the new customers occured in 2018 to 2019."
   ]
  },
  {
   "cell_type": "markdown",
   "metadata": {},
   "source": [
    "Now, we create another bar chart for the number of transactions for each year from 2013 to 2019. For this, we need to get the total transaction for each year and group the `Year_First_Transaction` column with the total of `Count_Transaction` column."
   ]
  },
  {
   "cell_type": "code",
   "execution_count": 15,
   "metadata": {},
   "outputs": [
    {
     "data": {
      "text/plain": [
       "Year_First_Transaction\n",
       "2013     23154\n",
       "2014    165494\n",
       "2015    297445\n",
       "2016    278707\n",
       "2017    299199\n",
       "2018     99989\n",
       "2019      5862\n",
       "Name: Count_Transaction, dtype: int64"
      ]
     },
     "execution_count": 15,
     "metadata": {},
     "output_type": "execute_result"
    }
   ],
   "source": [
    "df_count = df.groupby(['Year_First_Transaction'])['Count_Transaction'].sum()\n",
    "df_count"
   ]
  },
  {
   "cell_type": "code",
   "execution_count": 16,
   "metadata": {},
   "outputs": [
    {
     "data": {
      "image/png": "[encoded data removed]",
      "text/plain": [
       "<Figure size 576x345.6 with 1 Axes>"
      ]
     },
     "metadata": {},
     "output_type": "display_data"
    }
   ],
   "source": [
    "# plt.clf() # clear previous graph\n",
    "df_count.plot(x='Year_First_Transaction', y='Count_Transaction', kind='bar',\n",
    "              title='Transaction Count per Year')\n",
    "plt.xlabel('Year')\n",
    "plt.ylabel('Transaction Count')\n",
    "plt.show()"
   ]
  },
  {
   "cell_type": "markdown",
   "metadata": {},
   "source": [
    "#### Observation\n",
    "From the chart above, we can say that the sales increases from 2013 to 2015 and there is a slight decline in 2016. The sales continue to rise again until 2017 and had a drastic decline in the next two years."
   ]
  },
  {
   "cell_type": "markdown",
   "metadata": {},
   "source": [
    "Next, we can visualize the average number of transaction per year for each product sold in the store. To do this, we create a new variable to store the mean of product sold and group it by `Year_First_Transaction` column."
   ]
  },
  {
   "cell_type": "code",
   "execution_count": 17,
   "metadata": {},
   "outputs": [
    {
     "data": {
      "text/html": [
       "<div>\n",
       "<style scoped>\n",
       "    .dataframe tbody tr th:only-of-type {\n",
       "        vertical-align: middle;\n",
       "    }\n",
       "\n",
       "    .dataframe tbody tr th {\n",
       "        vertical-align: top;\n",
       "    }\n",
       "\n",
       "    .dataframe thead th {\n",
       "        text-align: right;\n",
       "    }\n",
       "</style>\n",
       "<table border=\"1\" class=\"dataframe\">\n",
       "  <thead>\n",
       "    <tr style=\"text-align: right;\">\n",
       "      <th></th>\n",
       "      <th>Product</th>\n",
       "      <th>Year_First_Transaction</th>\n",
       "      <th>Average_Transaction_Amount</th>\n",
       "    </tr>\n",
       "  </thead>\n",
       "  <tbody>\n",
       "    <tr>\n",
       "      <th>0</th>\n",
       "      <td>Bag</td>\n",
       "      <td>2017</td>\n",
       "      <td>1.109583e+06</td>\n",
       "    </tr>\n",
       "    <tr>\n",
       "      <th>1</th>\n",
       "      <td>Bag</td>\n",
       "      <td>2018</td>\n",
       "      <td>1.337614e+06</td>\n",
       "    </tr>\n",
       "    <tr>\n",
       "      <th>2</th>\n",
       "      <td>Bag</td>\n",
       "      <td>2019</td>\n",
       "      <td>1.287529e+06</td>\n",
       "    </tr>\n",
       "    <tr>\n",
       "      <th>3</th>\n",
       "      <td>Jacket</td>\n",
       "      <td>2014</td>\n",
       "      <td>1.467937e+06</td>\n",
       "    </tr>\n",
       "    <tr>\n",
       "      <th>4</th>\n",
       "      <td>Jacket</td>\n",
       "      <td>2015</td>\n",
       "      <td>1.296265e+06</td>\n",
       "    </tr>\n",
       "    <tr>\n",
       "      <th>5</th>\n",
       "      <td>Jacket</td>\n",
       "      <td>2016</td>\n",
       "      <td>1.317344e+06</td>\n",
       "    </tr>\n",
       "    <tr>\n",
       "      <th>6</th>\n",
       "      <td>Jacket</td>\n",
       "      <td>2017</td>\n",
       "      <td>1.369034e+06</td>\n",
       "    </tr>\n",
       "    <tr>\n",
       "      <th>7</th>\n",
       "      <td>Jacket</td>\n",
       "      <td>2018</td>\n",
       "      <td>1.419074e+06</td>\n",
       "    </tr>\n",
       "    <tr>\n",
       "      <th>8</th>\n",
       "      <td>Jacket</td>\n",
       "      <td>2019</td>\n",
       "      <td>1.447536e+06</td>\n",
       "    </tr>\n",
       "    <tr>\n",
       "      <th>9</th>\n",
       "      <td>Jersey</td>\n",
       "      <td>2017</td>\n",
       "      <td>1.490890e+06</td>\n",
       "    </tr>\n",
       "    <tr>\n",
       "      <th>10</th>\n",
       "      <td>Jersey</td>\n",
       "      <td>2018</td>\n",
       "      <td>1.570201e+06</td>\n",
       "    </tr>\n",
       "    <tr>\n",
       "      <th>11</th>\n",
       "      <td>Jersey</td>\n",
       "      <td>2019</td>\n",
       "      <td>1.383645e+06</td>\n",
       "    </tr>\n",
       "    <tr>\n",
       "      <th>12</th>\n",
       "      <td>Shoes</td>\n",
       "      <td>2013</td>\n",
       "      <td>1.396499e+06</td>\n",
       "    </tr>\n",
       "    <tr>\n",
       "      <th>13</th>\n",
       "      <td>Shoes</td>\n",
       "      <td>2014</td>\n",
       "      <td>1.427063e+06</td>\n",
       "    </tr>\n",
       "    <tr>\n",
       "      <th>14</th>\n",
       "      <td>Shoes</td>\n",
       "      <td>2015</td>\n",
       "      <td>1.428235e+06</td>\n",
       "    </tr>\n",
       "    <tr>\n",
       "      <th>15</th>\n",
       "      <td>Shoes</td>\n",
       "      <td>2016</td>\n",
       "      <td>1.425938e+06</td>\n",
       "    </tr>\n",
       "    <tr>\n",
       "      <th>16</th>\n",
       "      <td>Shoes</td>\n",
       "      <td>2017</td>\n",
       "      <td>1.407275e+06</td>\n",
       "    </tr>\n",
       "    <tr>\n",
       "      <th>17</th>\n",
       "      <td>Shoes</td>\n",
       "      <td>2018</td>\n",
       "      <td>1.346824e+06</td>\n",
       "    </tr>\n",
       "    <tr>\n",
       "      <th>18</th>\n",
       "      <td>Shoes</td>\n",
       "      <td>2019</td>\n",
       "      <td>1.338180e+06</td>\n",
       "    </tr>\n",
       "  </tbody>\n",
       "</table>\n",
       "</div>"
      ],
      "text/plain": [
       "   Product  Year_First_Transaction  Average_Transaction_Amount\n",
       "0      Bag                    2017                1.109583e+06\n",
       "1      Bag                    2018                1.337614e+06\n",
       "2      Bag                    2019                1.287529e+06\n",
       "3   Jacket                    2014                1.467937e+06\n",
       "4   Jacket                    2015                1.296265e+06\n",
       "5   Jacket                    2016                1.317344e+06\n",
       "6   Jacket                    2017                1.369034e+06\n",
       "7   Jacket                    2018                1.419074e+06\n",
       "8   Jacket                    2019                1.447536e+06\n",
       "9   Jersey                    2017                1.490890e+06\n",
       "10  Jersey                    2018                1.570201e+06\n",
       "11  Jersey                    2019                1.383645e+06\n",
       "12   Shoes                    2013                1.396499e+06\n",
       "13   Shoes                    2014                1.427063e+06\n",
       "14   Shoes                    2015                1.428235e+06\n",
       "15   Shoes                    2016                1.425938e+06\n",
       "16   Shoes                    2017                1.407275e+06\n",
       "17   Shoes                    2018                1.346824e+06\n",
       "18   Shoes                    2019                1.338180e+06"
      ]
     },
     "execution_count": 17,
     "metadata": {},
     "output_type": "execute_result"
    }
   ],
   "source": [
    "product_sold = df.groupby(['Product', 'Year_First_Transaction']).mean().reset_index()\n",
    "product_sold[['Product', 'Year_First_Transaction', 'Average_Transaction_Amount']]"
   ]
  },
  {
   "cell_type": "code",
   "execution_count": 18,
   "metadata": {
    "scrolled": false
   },
   "outputs": [
    {
     "data": {
      "image/png": "[encoded data removed]",
      "text/plain": [
       "<Figure size 576x345.6 with 1 Axes>"
      ]
     },
     "metadata": {},
     "output_type": "display_data"
    }
   ],
   "source": [
    "import seaborn as sns\n",
    "# plt.clf()\n",
    "sns.pointplot(x = 'Year_First_Transaction', y = 'Average_Transaction_Amount',\n",
    "              data = product_sold, hue = 'Product')\n",
    "#sns.set(rc={'figure.figsize':(12,10)})\n",
    "plt.xlabel('Year')\n",
    "plt.ylabel('Average Transaction')\n",
    "plt.show()"
   ]
  },
  {
   "cell_type": "markdown",
   "metadata": {},
   "source": [
    "#### Observation\n",
    "Line charts are used to get more detailed results and to compare the sales of each product. As we can see, throughout the year 2013 to 2019, *Shoes* have the most stable average sales than the other three products. Unlike the *Jacket* product which had a high average sales in 2014, but fell drastically in 2015 and started to rise again in 2016 to 2019. For *Jersey* product, sales were quite good in 2017 to 2018 but recorded a significant decrease in 2019. Meanwhile the *Bag* product had a quite impressive increase in sales from 2017 to 2018, but decreased slightly in 2019."
   ]
  },
  {
   "cell_type": "markdown",
   "metadata": {},
   "source": [
    "#### Recommendation\n",
    "In 2019, *Jacket* becomes the promising product to sell because it is experiencing an increase in sales. Other products could be sold in bundles, for example shoes and bag at the start of the new school year. Making advertisements for the less popular products could also increase the average sales of these products."
   ]
  },
  {
   "cell_type": "markdown",
   "metadata": {},
   "source": [
    "For the next part, we want to know whether customer came back to buy the same product. This time, we will be using pie chart. First, using the values from `Customer_ID`, we have to pivot the data and display the `Product` column with the respective churn status."
   ]
  },
  {
   "cell_type": "code",
   "execution_count": 19,
   "metadata": {},
   "outputs": [
    {
     "data": {
      "text/html": [
       "<div>\n",
       "<style scoped>\n",
       "    .dataframe tbody tr th:only-of-type {\n",
       "        vertical-align: middle;\n",
       "    }\n",
       "\n",
       "    .dataframe tbody tr th {\n",
       "        vertical-align: top;\n",
       "    }\n",
       "\n",
       "    .dataframe thead th {\n",
       "        text-align: right;\n",
       "    }\n",
       "</style>\n",
       "<table border=\"1\" class=\"dataframe\">\n",
       "  <thead>\n",
       "    <tr style=\"text-align: right;\">\n",
       "      <th>Product</th>\n",
       "      <th>Bag</th>\n",
       "      <th>Jacket</th>\n",
       "      <th>Jersey</th>\n",
       "      <th>Shoes</th>\n",
       "    </tr>\n",
       "    <tr>\n",
       "      <th>is_churn</th>\n",
       "      <th></th>\n",
       "      <th></th>\n",
       "      <th></th>\n",
       "      <th></th>\n",
       "    </tr>\n",
       "  </thead>\n",
       "  <tbody>\n",
       "    <tr>\n",
       "      <th>0</th>\n",
       "      <td>4976</td>\n",
       "      <td>11123</td>\n",
       "      <td>1268</td>\n",
       "      <td>16064</td>\n",
       "    </tr>\n",
       "    <tr>\n",
       "      <th>1</th>\n",
       "      <td>7508</td>\n",
       "      <td>23827</td>\n",
       "      <td>2144</td>\n",
       "      <td>33090</td>\n",
       "    </tr>\n",
       "  </tbody>\n",
       "</table>\n",
       "</div>"
      ],
      "text/plain": [
       "Product    Bag  Jacket  Jersey  Shoes\n",
       "is_churn                             \n",
       "0         4976   11123    1268  16064\n",
       "1         7508   23827    2144  33090"
      ]
     },
     "execution_count": 19,
     "metadata": {},
     "output_type": "execute_result"
    }
   ],
   "source": [
    "df_pivot = df.pivot_table(index = 'is_churn', columns = 'Product', values = 'Customer_ID',\n",
    "                          aggfunc = 'count', fill_value = 0)\n",
    "df_pivot"
   ]
  },
  {
   "cell_type": "markdown",
   "metadata": {},
   "source": [
    "After pivoting is done, the calculation is carried out with an ascending order in order to obtain the amount of churn for each product."
   ]
  },
  {
   "cell_type": "code",
   "execution_count": 20,
   "metadata": {},
   "outputs": [
    {
     "data": {
      "text/plain": [
       "Index(['Shoes', 'Jersey', 'Jacket', 'Bag'], dtype='object', name='Product')"
      ]
     },
     "execution_count": 20,
     "metadata": {},
     "output_type": "execute_result"
    }
   ],
   "source": [
    "plot_product = df_pivot.count().sort_values(ascending = False).head(5).index\n",
    "plot_product"
   ]
  },
  {
   "cell_type": "code",
   "execution_count": 21,
   "metadata": {
    "scrolled": true
   },
   "outputs": [
    {
     "data": {
      "text/html": [
       "<div>\n",
       "<style scoped>\n",
       "    .dataframe tbody tr th:only-of-type {\n",
       "        vertical-align: middle;\n",
       "    }\n",
       "\n",
       "    .dataframe tbody tr th {\n",
       "        vertical-align: top;\n",
       "    }\n",
       "\n",
       "    .dataframe thead th {\n",
       "        text-align: right;\n",
       "    }\n",
       "</style>\n",
       "<table border=\"1\" class=\"dataframe\">\n",
       "  <thead>\n",
       "    <tr style=\"text-align: right;\">\n",
       "      <th>Product</th>\n",
       "      <th>Shoes</th>\n",
       "      <th>Jersey</th>\n",
       "      <th>Jacket</th>\n",
       "      <th>Bag</th>\n",
       "    </tr>\n",
       "    <tr>\n",
       "      <th>is_churn</th>\n",
       "      <th></th>\n",
       "      <th></th>\n",
       "      <th></th>\n",
       "      <th></th>\n",
       "    </tr>\n",
       "  </thead>\n",
       "  <tbody>\n",
       "    <tr>\n",
       "      <th>0</th>\n",
       "      <td>16064</td>\n",
       "      <td>1268</td>\n",
       "      <td>11123</td>\n",
       "      <td>4976</td>\n",
       "    </tr>\n",
       "    <tr>\n",
       "      <th>1</th>\n",
       "      <td>33090</td>\n",
       "      <td>2144</td>\n",
       "      <td>23827</td>\n",
       "      <td>7508</td>\n",
       "    </tr>\n",
       "  </tbody>\n",
       "</table>\n",
       "</div>"
      ],
      "text/plain": [
       "Product   Shoes  Jersey  Jacket   Bag\n",
       "is_churn                             \n",
       "0         16064    1268   11123  4976\n",
       "1         33090    2144   23827  7508"
      ]
     },
     "execution_count": 21,
     "metadata": {},
     "output_type": "execute_result"
    }
   ],
   "source": [
    "df_pivot = df_pivot.reindex(columns = plot_product)\n",
    "df_pivot"
   ]
  },
  {
   "cell_type": "markdown",
   "metadata": {},
   "source": [
    "Finally, visualization is done by using a pie chart. Here are the results of the diagram formed."
   ]
  },
  {
   "cell_type": "code",
   "execution_count": 22,
   "metadata": {},
   "outputs": [
    {
     "data": {
      "text/plain": [
       "array([16064,  1268, 11123,  4976], dtype=int64)"
      ]
     },
     "execution_count": 22,
     "metadata": {},
     "output_type": "execute_result"
    }
   ],
   "source": [
    "df_pivot.loc[0].values"
   ]
  },
  {
   "cell_type": "code",
   "execution_count": 23,
   "metadata": {},
   "outputs": [
    {
     "data": {
      "text/plain": [
       "Index(['Shoes', 'Jersey', 'Jacket', 'Bag'], dtype='object', name='Product')"
      ]
     },
     "execution_count": 23,
     "metadata": {},
     "output_type": "execute_result"
    }
   ],
   "source": [
    "df_pivot.keys()"
   ]
  },
  {
   "cell_type": "code",
   "execution_count": 24,
   "metadata": {},
   "outputs": [
    {
     "data": {
      "image/png": "[encoded data removed]",
      "text/plain": [
       "<Figure size 720x504 with 4 Axes>"
      ]
     },
     "metadata": {},
     "output_type": "display_data"
    }
   ],
   "source": [
    "# plt.clf()\n",
    "df_pivot.plot.pie(subplots = True, figsize = (10,7), layout = (-1, 2),\n",
    "                  autopct = \"%1.0f%%\", title = 'Proportion Churn by Product')\n",
    "plt.tight_layout()\n",
    "plt.show()"
   ]
  },
  {
   "cell_type": "markdown",
   "metadata": {},
   "source": [
    "#### Observation\n",
    "For all of the four product sold, about 60% of customers will return to buy the product after the first purchase. So we can said that each product has its respective fans by repurchasing the same product. From the four product, we can see that *Jacket* has the least amount of churn customers while *Bag* product has the most churning customers."
   ]
  },
  {
   "cell_type": "markdown",
   "metadata": {},
   "source": [
    "Finally, we can visualize the number of transactions carried out by the same person and the average number of transaction carried out. This analysis can be performed using bar chart.\n",
    "\n",
    "Before we create the diagram, we need to make a categorization of the number of transaction and later we will also make a categorization based on the average transaction value. This categorization is created by defining a new function. The following table is the desired categorization.\n",
    "\n",
    "| Category | Total Amount of Transaction | Mathematical Terms |\n",
    "| --- | --- | --- |\n",
    "| A | 1 | $$x=1$$ |\n",
    "| B | 2 to 3 | $$2 \\leq x \\leq 3$$ |\n",
    "| C | 4 to 6 | $$4 \\leq x \\leq 6$$ |\n",
    "| D | 7 to 10 | $$7 \\leq x \\leq 10$$ |\n",
    "| E | more than 10 | $$x > 10$$ |"
   ]
  },
  {
   "cell_type": "markdown",
   "metadata": {},
   "source": [
    "The category is formed by defining a new function that will create five categories, each with their own total amount of transaction. `Row` is used as the input parameter because this categorization is based on the `Count_Transaction` row, where if the customer made only one purchase, then it is categorized as `A`, if it is more than one but less than 3, it is included in category `B` and so on as in the table above."
   ]
  },
  {
   "cell_type": "code",
   "execution_count": 25,
   "metadata": {},
   "outputs": [],
   "source": [
    "def category1(row):\n",
    "    if (row['Count_Transaction'] == 1):\n",
    "        cat = '(A) 1'\n",
    "    elif (row['Count_Transaction'] >= 2 and row['Count_Transaction'] <= 3):\n",
    "        cat = '(B) 2 to 3'\n",
    "    elif (row['Count_Transaction'] >= 4 and row['Count_Transaction'] <= 6):\n",
    "        cat = '(C) 4 to 6'\n",
    "    elif (row['Count_Transaction'] >= 7 and row['Count_Transaction'] <= 10):\n",
    "        cat = '(D) 7 to 10'\n",
    "    else:\n",
    "        cat = '(E) > 10'\n",
    "    return cat"
   ]
  },
  {
   "cell_type": "code",
   "execution_count": 26,
   "metadata": {},
   "outputs": [
    {
     "data": {
      "text/html": [
       "<div>\n",
       "<style scoped>\n",
       "    .dataframe tbody tr th:only-of-type {\n",
       "        vertical-align: middle;\n",
       "    }\n",
       "\n",
       "    .dataframe tbody tr th {\n",
       "        vertical-align: top;\n",
       "    }\n",
       "\n",
       "    .dataframe thead th {\n",
       "        text-align: right;\n",
       "    }\n",
       "</style>\n",
       "<table border=\"1\" class=\"dataframe\">\n",
       "  <thead>\n",
       "    <tr style=\"text-align: right;\">\n",
       "      <th></th>\n",
       "      <th>Customer_ID</th>\n",
       "      <th>Count_Transaction</th>\n",
       "      <th>Count_Transaction_Group</th>\n",
       "    </tr>\n",
       "  </thead>\n",
       "  <tbody>\n",
       "    <tr>\n",
       "      <th>0</th>\n",
       "      <td>29531</td>\n",
       "      <td>22</td>\n",
       "      <td>(E) &gt; 10</td>\n",
       "    </tr>\n",
       "    <tr>\n",
       "      <th>1</th>\n",
       "      <td>29531</td>\n",
       "      <td>41</td>\n",
       "      <td>(E) &gt; 10</td>\n",
       "    </tr>\n",
       "    <tr>\n",
       "      <th>2</th>\n",
       "      <td>141526</td>\n",
       "      <td>30</td>\n",
       "      <td>(E) &gt; 10</td>\n",
       "    </tr>\n",
       "    <tr>\n",
       "      <th>3</th>\n",
       "      <td>141526</td>\n",
       "      <td>27</td>\n",
       "      <td>(E) &gt; 10</td>\n",
       "    </tr>\n",
       "    <tr>\n",
       "      <th>4</th>\n",
       "      <td>37545</td>\n",
       "      <td>25</td>\n",
       "      <td>(E) &gt; 10</td>\n",
       "    </tr>\n",
       "  </tbody>\n",
       "</table>\n",
       "</div>"
      ],
      "text/plain": [
       "   Customer_ID  Count_Transaction Count_Transaction_Group\n",
       "0        29531                 22                (E) > 10\n",
       "1        29531                 41                (E) > 10\n",
       "2       141526                 30                (E) > 10\n",
       "3       141526                 27                (E) > 10\n",
       "4        37545                 25                (E) > 10"
      ]
     },
     "execution_count": 26,
     "metadata": {},
     "output_type": "execute_result"
    }
   ],
   "source": [
    "# add a new column\n",
    "df['Count_Transaction_Group'] = df.apply(category1, axis=1)\n",
    "df[['Customer_ID', 'Count_Transaction', 'Count_Transaction_Group']].head()"
   ]
  },
  {
   "cell_type": "code",
   "execution_count": 27,
   "metadata": {},
   "outputs": [
    {
     "data": {
      "text/plain": [
       "Count_Transaction_Group\n",
       "(A) 1          49255\n",
       "(B) 2 to 3     14272\n",
       "(C) 4 to 6     12126\n",
       "(D) 7 to 10     2890\n",
       "(E) > 10       21457\n",
       "Name: Count_Transaction, dtype: int64"
      ]
     },
     "execution_count": 27,
     "metadata": {},
     "output_type": "execute_result"
    }
   ],
   "source": [
    "df_cat = df.groupby(['Count_Transaction_Group'])['Count_Transaction'].count()\n",
    "df_cat"
   ]
  },
  {
   "cell_type": "code",
   "execution_count": 28,
   "metadata": {
    "scrolled": false
   },
   "outputs": [
    {
     "data": {
      "image/png": "[encoded data removed]",
      "text/plain": [
       "<Figure size 576x345.6 with 1 Axes>"
      ]
     },
     "metadata": {},
     "output_type": "display_data"
    }
   ],
   "source": [
    "# plt.clf()\n",
    "df_cat.plot(x = 'Count_Transaction_Group', y = 'Customer_ID', kind = 'bar', \n",
    "            title = 'Customer Distribution by Count Transaction Group')\n",
    "plt.xlabel('Count Transaction Group')\n",
    "plt.ylabel('Number of Customers')\n",
    "plt.xticks(rotation = 25)\n",
    "plt.show()"
   ]
  },
  {
   "cell_type": "markdown",
   "metadata": {},
   "source": [
    "#### Observation\n",
    "We can see that the majority of customers only make one transaction, but customers that made more than 10 transactions are also quite a lot. If we total up customers that made more than one transaction, the value is larger than customers who made only one purchase."
   ]
  },
  {
   "cell_type": "markdown",
   "metadata": {},
   "source": [
    "Using similar method, the visualization on the average transaction value of each customer can be done. The following table is the desired categorization.\n",
    "\n",
    "| Category | Total Amount of Transaction | Mathematical Terms |\n",
    "| --- | --- | --- |\n",
    "| A | 0 to 0.5M | $$x \\leq 0.5 \\times 10^6$$ |\n",
    "| B | 0.5M to 1.0M | $$0.5 \\times 10^6 \\leq x \\leq 1.0 \\times 10^6$$ |\n",
    "| C | 1.0M to 1.5M | $$1.0 \\times 10^6 \\leq x \\leq 1.5 \\times 10^6$$ |\n",
    "| D | 1.5M to 2.0M | $$1.5 \\times 10^6 \\leq x \\leq 2.0 \\times 10^6$$ |\n",
    "| E | more than 2.0M | $$x > 2.0 \\times 10^6$$ |"
   ]
  },
  {
   "cell_type": "code",
   "execution_count": 29,
   "metadata": {},
   "outputs": [],
   "source": [
    "def category2(row):\n",
    "    if (row['Average_Transaction_Amount'] <= 500000):\n",
    "        cat = '(A) < 0.5M'\n",
    "    elif (row['Average_Transaction_Amount'] > 500000 and row['Average_Transaction_Amount'] <= 1000000):\n",
    "        cat = '(B) 0.5M - 1.0M'\n",
    "    elif (row['Average_Transaction_Amount'] > 1000000 and row['Average_Transaction_Amount'] <= 1500000):\n",
    "        cat = '(C) 1.0M - 1.5M'\n",
    "    elif (row['Average_Transaction_Amount'] > 1500000 and row['Average_Transaction_Amount'] <= 2000000):\n",
    "        cat = '(D) 1.5M - 2M'\n",
    "    else:\n",
    "        cat = '(E) > 2M'\n",
    "    return cat"
   ]
  },
  {
   "cell_type": "code",
   "execution_count": 30,
   "metadata": {},
   "outputs": [
    {
     "data": {
      "text/html": [
       "<div>\n",
       "<style scoped>\n",
       "    .dataframe tbody tr th:only-of-type {\n",
       "        vertical-align: middle;\n",
       "    }\n",
       "\n",
       "    .dataframe tbody tr th {\n",
       "        vertical-align: top;\n",
       "    }\n",
       "\n",
       "    .dataframe thead th {\n",
       "        text-align: right;\n",
       "    }\n",
       "</style>\n",
       "<table border=\"1\" class=\"dataframe\">\n",
       "  <thead>\n",
       "    <tr style=\"text-align: right;\">\n",
       "      <th></th>\n",
       "      <th>Customer_ID</th>\n",
       "      <th>Average_Transaction_Amount</th>\n",
       "      <th>Average_Transaction_Amount_Group</th>\n",
       "    </tr>\n",
       "  </thead>\n",
       "  <tbody>\n",
       "    <tr>\n",
       "      <th>0</th>\n",
       "      <td>29531</td>\n",
       "      <td>1467681</td>\n",
       "      <td>(C) 1.0M - 1.5M</td>\n",
       "    </tr>\n",
       "    <tr>\n",
       "      <th>1</th>\n",
       "      <td>29531</td>\n",
       "      <td>1269337</td>\n",
       "      <td>(C) 1.0M - 1.5M</td>\n",
       "    </tr>\n",
       "    <tr>\n",
       "      <th>2</th>\n",
       "      <td>141526</td>\n",
       "      <td>310915</td>\n",
       "      <td>(A) &lt; 0.5M</td>\n",
       "    </tr>\n",
       "    <tr>\n",
       "      <th>3</th>\n",
       "      <td>141526</td>\n",
       "      <td>722632</td>\n",
       "      <td>(B) 0.5M - 1.0M</td>\n",
       "    </tr>\n",
       "    <tr>\n",
       "      <th>4</th>\n",
       "      <td>37545</td>\n",
       "      <td>1775036</td>\n",
       "      <td>(D) 1.5M - 2M</td>\n",
       "    </tr>\n",
       "  </tbody>\n",
       "</table>\n",
       "</div>"
      ],
      "text/plain": [
       "   Customer_ID  Average_Transaction_Amount Average_Transaction_Amount_Group\n",
       "0        29531                     1467681                  (C) 1.0M - 1.5M\n",
       "1        29531                     1269337                  (C) 1.0M - 1.5M\n",
       "2       141526                      310915                       (A) < 0.5M\n",
       "3       141526                      722632                  (B) 0.5M - 1.0M\n",
       "4        37545                     1775036                    (D) 1.5M - 2M"
      ]
     },
     "execution_count": 30,
     "metadata": {},
     "output_type": "execute_result"
    }
   ],
   "source": [
    "# add new column\n",
    "df['Average_Transaction_Amount_Group'] = df.apply(category2, axis=1)\n",
    "df[['Customer_ID', 'Average_Transaction_Amount', 'Average_Transaction_Amount_Group']].head()"
   ]
  },
  {
   "cell_type": "code",
   "execution_count": 31,
   "metadata": {},
   "outputs": [
    {
     "data": {
      "text/plain": [
       "Average_Transaction_Amount_Group\n",
       "(A) < 0.5M         26828\n",
       "(B) 0.5M - 1.0M    27469\n",
       "(C) 1.0M - 1.5M    17378\n",
       "(D) 1.5M - 2M      10028\n",
       "(E) > 2M           18297\n",
       "Name: Customer_ID, dtype: int64"
      ]
     },
     "execution_count": 31,
     "metadata": {},
     "output_type": "execute_result"
    }
   ],
   "source": [
    "df_avg = df.groupby(['Average_Transaction_Amount_Group'])['Customer_ID'].count()\n",
    "df_avg"
   ]
  },
  {
   "cell_type": "code",
   "execution_count": 32,
   "metadata": {},
   "outputs": [
    {
     "data": {
      "image/png": "[encoded data removed]",
      "text/plain": [
       "<Figure size 576x345.6 with 1 Axes>"
      ]
     },
     "metadata": {},
     "output_type": "display_data"
    }
   ],
   "source": [
    "df_avg.plot(x = 'Average_Transaction_Amount_Group', y = 'Customer_ID', kind = 'bar',\n",
    "            title = 'Customer Distribution Grouped by Average Transaction Amount')\n",
    "plt.xlabel('Average Transaction Amount Group')\n",
    "plt.ylabel('Number of Customers')\n",
    "plt.xticks(rotation = 25)\n",
    "plt.show()"
   ]
  },
  {
   "cell_type": "markdown",
   "metadata": {},
   "source": [
    "#### Observation\n",
    "From the bar chart above, we can see that the most of the customers spend less than 1M on average. This shows that the customers' purchasing power is good enough and there is no need to make changes to the price of the product that are being sold previously."
   ]
  },
  {
   "cell_type": "markdown",
   "metadata": {},
   "source": [
    "### 3. Data Modelling"
   ]
  },
  {
   "cell_type": "markdown",
   "metadata": {},
   "source": [
    "In this section, we will try to create a simple model with the data that we have. First thing first, we need to determine the dependent and independent variable to used in our modelling. In this case, we will denote X as independent variable while dependent variable as Y. The independent variables that we choose are `Average_Transaction_Amount`, `Count_Transaction`, and `Year_Diff`.\n",
    "\n",
    "The `Year_Diff` column is a new column which we will create by subtracting the `Year_First_Transaction` from the `Year_Last_Transaction` column. We will group those columns together under a new column called `feature_column` and label it as variable X. As for the dependent variable, y, the column that we will use is `is_churn`."
   ]
  },
  {
   "cell_type": "code",
   "execution_count": 33,
   "metadata": {},
   "outputs": [
    {
     "data": {
      "text/plain": [
       "0    2\n",
       "1    4\n",
       "2    2\n",
       "3    2\n",
       "4    3\n",
       "Name: Year_Diff, dtype: int64"
      ]
     },
     "execution_count": 33,
     "metadata": {},
     "output_type": "execute_result"
    }
   ],
   "source": [
    "df['Year_Diff'] = df['Year_Last_Transaction'] - df['Year_First_Transaction']\n",
    "df['Year_Diff'].head()"
   ]
  },
  {
   "cell_type": "code",
   "execution_count": 34,
   "metadata": {},
   "outputs": [
    {
     "data": {
      "text/html": [
       "<div>\n",
       "<style scoped>\n",
       "    .dataframe tbody tr th:only-of-type {\n",
       "        vertical-align: middle;\n",
       "    }\n",
       "\n",
       "    .dataframe tbody tr th {\n",
       "        vertical-align: top;\n",
       "    }\n",
       "\n",
       "    .dataframe thead th {\n",
       "        text-align: right;\n",
       "    }\n",
       "</style>\n",
       "<table border=\"1\" class=\"dataframe\">\n",
       "  <thead>\n",
       "    <tr style=\"text-align: right;\">\n",
       "      <th></th>\n",
       "      <th>Average_Transaction_Amount</th>\n",
       "      <th>Count_Transaction</th>\n",
       "      <th>Year_Diff</th>\n",
       "    </tr>\n",
       "  </thead>\n",
       "  <tbody>\n",
       "    <tr>\n",
       "      <th>0</th>\n",
       "      <td>1467681</td>\n",
       "      <td>22</td>\n",
       "      <td>2</td>\n",
       "    </tr>\n",
       "    <tr>\n",
       "      <th>1</th>\n",
       "      <td>1269337</td>\n",
       "      <td>41</td>\n",
       "      <td>4</td>\n",
       "    </tr>\n",
       "    <tr>\n",
       "      <th>2</th>\n",
       "      <td>310915</td>\n",
       "      <td>30</td>\n",
       "      <td>2</td>\n",
       "    </tr>\n",
       "    <tr>\n",
       "      <th>3</th>\n",
       "      <td>722632</td>\n",
       "      <td>27</td>\n",
       "      <td>2</td>\n",
       "    </tr>\n",
       "    <tr>\n",
       "      <th>4</th>\n",
       "      <td>1775036</td>\n",
       "      <td>25</td>\n",
       "      <td>3</td>\n",
       "    </tr>\n",
       "  </tbody>\n",
       "</table>\n",
       "</div>"
      ],
      "text/plain": [
       "   Average_Transaction_Amount  Count_Transaction  Year_Diff\n",
       "0                     1467681                 22          2\n",
       "1                     1269337                 41          4\n",
       "2                      310915                 30          2\n",
       "3                      722632                 27          2\n",
       "4                     1775036                 25          3"
      ]
     },
     "execution_count": 34,
     "metadata": {},
     "output_type": "execute_result"
    }
   ],
   "source": [
    "feature_columns = ['Average_Transaction_Amount', 'Count_Transaction', 'Year_Diff']\n",
    "X = df[feature_columns]\n",
    "X.head()"
   ]
  },
  {
   "cell_type": "code",
   "execution_count": 35,
   "metadata": {},
   "outputs": [
    {
     "data": {
      "text/plain": [
       "0    0\n",
       "1    0\n",
       "2    0\n",
       "3    0\n",
       "4    0\n",
       "Name: is_churn, dtype: int64"
      ]
     },
     "execution_count": 35,
     "metadata": {},
     "output_type": "execute_result"
    }
   ],
   "source": [
    "y = df['is_churn']\n",
    "y.head()"
   ]
  },
  {
   "cell_type": "code",
   "execution_count": 36,
   "metadata": {},
   "outputs": [
    {
     "name": "stdout",
     "output_type": "stream",
     "text": [
      "X.shape : (100000, 3)\n",
      "y.shape : (100000,)\n"
     ]
    }
   ],
   "source": [
    "print(\"X.shape :\", X.shape)\n",
    "print(\"y.shape :\", y.shape)"
   ]
  },
  {
   "cell_type": "markdown",
   "metadata": {},
   "source": [
    "Next, we split X and y into training and testing. The testing part is 25% of our data set while the training part is 75%."
   ]
  },
  {
   "cell_type": "code",
   "execution_count": 37,
   "metadata": {},
   "outputs": [],
   "source": [
    "from sklearn.model_selection import train_test_split\n",
    "X_train, X_test, y_train, y_test = train_test_split(X, y, test_size = 0.25, random_state = 0)"
   ]
  },
  {
   "cell_type": "code",
   "execution_count": 38,
   "metadata": {},
   "outputs": [
    {
     "name": "stdout",
     "output_type": "stream",
     "text": [
      "X_train.shape : (75000, 3)\n",
      "y_train.shape : (75000,)\n",
      "X_test.shape  : (25000, 3)\n",
      "y_test.shape  : (25000,)\n"
     ]
    }
   ],
   "source": [
    "print(\"X_train.shape :\", X_train.shape)\n",
    "print(\"y_train.shape :\", y_train.shape)\n",
    "print(\"X_test.shape  :\", X_test.shape)\n",
    "print(\"y_test.shape  :\", y_test.shape)"
   ]
  },
  {
   "cell_type": "markdown",
   "metadata": {},
   "source": [
    "The next step is to create a *Logistic Regression* model and initiate the model, fit, and evaluation of the model using *confusion matrix*. "
   ]
  },
  {
   "cell_type": "code",
   "execution_count": 39,
   "metadata": {},
   "outputs": [],
   "source": [
    "from sklearn.linear_model import LogisticRegression\n",
    "from sklearn.metrics import confusion_matrix\n",
    "\n",
    "# initialize the model\n",
    "model = LogisticRegression()\n",
    "\n",
    "# fit the model with data\n",
    "model.fit(X_train, y_train)\n",
    "\n",
    "# predict the model\n",
    "y_pred = model.predict(X_test)"
   ]
  },
  {
   "cell_type": "code",
   "execution_count": 40,
   "metadata": {
    "scrolled": true
   },
   "outputs": [
    {
     "name": "stdout",
     "output_type": "stream",
     "text": [
      "y_pred.shape: (25000,)\n",
      "y_test.shape: (25000,)\n"
     ]
    }
   ],
   "source": [
    "print(\"y_pred.shape:\", y_pred.shape)\n",
    "print(\"y_test.shape:\", y_test.shape)"
   ]
  },
  {
   "cell_type": "code",
   "execution_count": 41,
   "metadata": {},
   "outputs": [
    {
     "name": "stdout",
     "output_type": "stream",
     "text": [
      "Accuracy:  0.66668\n"
     ]
    }
   ],
   "source": [
    "print('Accuracy: ', model.score(X_test, y_test))  "
   ]
  },
  {
   "cell_type": "code",
   "execution_count": 42,
   "metadata": {},
   "outputs": [
    {
     "name": "stdout",
     "output_type": "stream",
     "text": [
      "Confusion Matrix: [[    1  8330]\n",
      " [    3 16666]]\n"
     ]
    }
   ],
   "source": [
    "# model evaluation using confusion matrix\n",
    "cnf_matrix = confusion_matrix(y_test, y_pred)\n",
    "print(f\"Confusion Matrix: {cnf_matrix}\")"
   ]
  },
  {
   "cell_type": "markdown",
   "metadata": {},
   "source": [
    "The calculated confusion matrix is visualized using a heatmap diagram from Seaborn."
   ]
  },
  {
   "cell_type": "code",
   "execution_count": 43,
   "metadata": {},
   "outputs": [
    {
     "data": {
      "image/png": "[encoded data removed]",
      "text/plain": [
       "<Figure size 576x345.6 with 2 Axes>"
      ]
     },
     "metadata": {},
     "output_type": "display_data"
    }
   ],
   "source": [
    "import numpy as np\n",
    "# plt.clf()\n",
    "class_name = [0, 1]\n",
    "fig, ax = plt.subplots()\n",
    "\n",
    "tick_marks = np.arange(len(class_name))\n",
    "plt.xticks(tick_marks, class_name)\n",
    "plt.yticks(tick_marks, class_name)\n",
    "\n",
    "sns.heatmap(pd.DataFrame(cnf_matrix), annot=True, cmap='YlGnBu', fmt='g')\n",
    "ax.xaxis.set_label_position('top')\n",
    "plt.title('Confusion Matrix', y=1.1)\n",
    "plt.xlabel('Predicted')\n",
    "plt.ylabel('Actual')\n",
    "plt.show()"
   ]
  },
  {
   "cell_type": "markdown",
   "metadata": {},
   "source": [
    "#### Observation\n",
    "From the heatmap of the confusion matrix above, we can see that the *true positive* value is `16666`, *true negative* is `1`, *false positive* is `3` and *false negative* has the value of `8330`.\n",
    "\n",
    "We will next calculate the accuracy, precision, and recall score of this model."
   ]
  },
  {
   "cell_type": "code",
   "execution_count": 44,
   "metadata": {},
   "outputs": [
    {
     "name": "stdout",
     "output_type": "stream",
     "text": [
      "Accuracy  : 0.66668\n",
      "Precision : 0.66668\n",
      "Recall    : 0.66668\n"
     ]
    }
   ],
   "source": [
    "# method 1\n",
    "from sklearn.metrics import accuracy_score, precision_score, recall_score\n",
    "print('Accuracy  :', accuracy_score(y_test, y_pred))\n",
    "print('Precision :', precision_score(y_test, y_pred, average='micro'))\n",
    "print('Recall    :', recall_score(y_test, y_pred, average='micro'))"
   ]
  },
  {
   "cell_type": "code",
   "execution_count": 45,
   "metadata": {},
   "outputs": [
    {
     "name": "stdout",
     "output_type": "stream",
     "text": [
      "              precision    recall  f1-score   support\n",
      "\n",
      "           0       0.25      0.00      0.00      8331\n",
      "           1       0.67      1.00      0.80     16669\n",
      "\n",
      "    accuracy                           0.67     25000\n",
      "   macro avg       0.46      0.50      0.40     25000\n",
      "weighted avg       0.53      0.67      0.53     25000\n",
      "\n"
     ]
    }
   ],
   "source": [
    "# method 2\n",
    "from sklearn.metrics import classification_report\n",
    "print(classification_report(y_test, y_pred))"
   ]
  },
  {
   "cell_type": "markdown",
   "metadata": {},
   "source": [
    "#### Conclusion\n",
    "The accuracy, precision and recall values for our Logistic Regression model are the same, which is `0.66668`. It can be said that the model can be used because it has fairly good level of accuracy."
   ]
  }
 ],
 "metadata": {
  "kernelspec": {
   "display_name": "Python 3",
   "language": "python",
   "name": "python3"
  },
  "language_info": {
   "codemirror_mode": {
    "name": "ipython",
    "version": 3
   },
   "file_extension": ".py",
   "mimetype": "text/x-python",
   "name": "python",
   "nbconvert_exporter": "python",
   "pygments_lexer": "ipython3",
   "version": "3.7.1"
  }
 },
 "nbformat": 4,
 "nbformat_minor": 4
}
